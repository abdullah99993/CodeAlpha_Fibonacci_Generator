{
 "cells": [
  {
   "cell_type": "code",
   "execution_count": 3,
   "id": "d76a15cc-dacb-4147-b244-6cf6543c4379",
   "metadata": {},
   "outputs": [
    {
     "name": "stdout",
     "output_type": "stream",
     "text": [
      "0\n",
      "1\n",
      "1\n",
      "2\n",
      "3\n",
      "5\n",
      "8\n",
      "13\n",
      "21\n",
      "34\n",
      "55\n",
      "89\n",
      "144\n",
      "233\n",
      "377\n",
      "610\n",
      "987\n",
      "1597\n",
      "2584\n",
      "4181\n",
      "6765\n",
      "Next Fibonacci number after 100: 17711\n"
     ]
    }
   ],
   "source": [
    "def fibo():\n",
    "    \"\"\"\n",
    "    Generator function to yield Fibonacci numbers indefinitely.\n",
    "    \n",
    "    Yields:\n",
    "        int: The next Fibonacci number in the sequence.\n",
    "    \"\"\"\n",
    "    a, b = 0, 1  # Initialize the first two Fibonacci numbers\n",
    "    while True:\n",
    "        yield a  # Yield the current Fibonacci number\n",
    "        a, b = b, a + b  # Update to the next Fibonacci numbers\n",
    "        \n",
    "\n",
    "# Create a generator object\n",
    "f = fibo()\n",
    "\n",
    "# Print Fibonacci numbers up to 100\n",
    "for i in f:\n",
    "    if i > 10000:\n",
    "        break\n",
    "    print(i)\n",
    "\n",
    "# Optionally, you can print the next Fibonacci number after 100\n",
    "print(\"Next Fibonacci number after 100:\", next(f))\n"
   ]
  },
  {
   "cell_type": "code",
   "execution_count": null,
   "id": "a8bbb706-324c-47fc-ae7a-bebf3c82e4da",
   "metadata": {},
   "outputs": [],
   "source": []
  }
 ],
 "metadata": {
  "kernelspec": {
   "display_name": "Python 3 (ipykernel)",
   "language": "python",
   "name": "python3"
  },
  "language_info": {
   "codemirror_mode": {
    "name": "ipython",
    "version": 3
   },
   "file_extension": ".py",
   "mimetype": "text/x-python",
   "name": "python",
   "nbconvert_exporter": "python",
   "pygments_lexer": "ipython3",
   "version": "3.11.7"
  }
 },
 "nbformat": 4,
 "nbformat_minor": 5
}
